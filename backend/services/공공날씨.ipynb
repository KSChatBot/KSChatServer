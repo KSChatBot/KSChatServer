{
 "cells": [
  {
   "cell_type": "markdown",
   "metadata": {},
   "source": [
    "# 공공날씨 - 동네예보조회"
   ]
  },
  {
   "cell_type": "code",
   "execution_count": 1,
   "metadata": {
    "collapsed": true
   },
   "outputs": [],
   "source": [
    "# -*- coding: utf-8 -*-\n",
    "import datetime as dt\n",
    "import requests as req\n",
    "from bs4 import BeautifulSoup\n",
    "import json \n",
    "import pandas as pd "
   ]
  },
  {
   "cell_type": "code",
   "execution_count": 2,
   "metadata": {
    "collapsed": true
   },
   "outputs": [],
   "source": [
    "w_items = {\"POP\":[\"강수확률\", \"%\"], \n",
    "           \"PTY\":[\"강수형태\", \"\"], \n",
    "           \"R06\":[\"6시간 강수량\", \"mm\"], \n",
    "           \"REH\":[\"습도\", \"%\"], \n",
    "           \"S06\":[\"6시간 신적설\", \"cm\"], \n",
    "           \"SKY\":[\"하늘상태\", \"\"], \n",
    "           \"T3H\":[\"3시간 기온\", \"°C\"], \n",
    "           \"TMN\":[\"아침 최저 기온\", \"°C\"], \n",
    "           \"TMX\":[\"낮 최고 기온\", \"°C\"], \n",
    "           \"UUU\":[\"풍속(동서성분)\",\"m/s\"], \n",
    "           \"VVV\":[\"풍속(남북성분)\",\"m/s\"], \n",
    "           \"WAV\":[\"파고\", \"m\"], \n",
    "           \"VEC\":[\"풍향\", \"\"], \n",
    "           \"WSD\":[\"풍속\", \"m/s\"]}\n",
    "wind_dict = {0:\"N\",1:\"NNE\",2:\"NE\",3:\"ENE\",4:\"E\",5:\"ESE\",6:\"SE\",7:\"SSE\",8:\"S\",9:\"SSW\",10:\"SW\",11:\"WSW\",12:\"W\",13:\"WNW\",14:\"NW\",15:\"NNW\",16:\"N\"}\n",
    "rain_dict = {0:\"없음\", 1:\"비\", 2:\"진눈깨비\", 3:\"눈\"}\n",
    " \n",
    "# 가장 최근의 기상청 예보 시간(02:10 이후 3시간 단위) get\n",
    "def get_rpt_time():\n",
    "    base_time = dt.datetime.now() - dt.timedelta(hours=2) - dt.timedelta(minutes=10)\n",
    "    hour = int(base_time.strftime(\"%H\"))\n",
    "    rehour = str(hour//3*3 + 2).zfill(2)\n",
    "    return [base_time.strftime(\"%Y%m%d\"), rehour + \"00\"]\n",
    " \n",
    "# 풍향 계산용\n",
    "def get_wind_type(i):\n",
    "    return wind_dict[(i + 22.5 * 0.5)//22.5]\n",
    " \n",
    "def get_sky_status(i):\n",
    "    if i >= 0 and i <= 2: return \"맑음\"\n",
    "    elif i >= 3 and i <= 5: return \"구름조금\"\n",
    "    elif i >= 6 and i <= 8: return \"구름많음\"\n",
    "    elif i >= 9 and i <= 10: return \"흐림\"\n",
    "    \n",
    "def get_real_value(c, s):\n",
    "    if c.string == \"VEC\":\n",
    "        return get_wind_type(int(s.string))\n",
    "    elif c.string == \"SKY\":\n",
    "        return get_sky_status(int(s.string))\n",
    "    elif c.string == \"PTY\":\n",
    "        return rain_dict[int(s.string)]\n",
    "    return s.string\n",
    " \n"
   ]
  },
  {
   "cell_type": "code",
   "execution_count": 3,
   "metadata": {},
   "outputs": [
    {
     "data": {
      "text/plain": [
       "<?xml version=\"1.0\" encoding=\"utf-8\"?>\n",
       "<response><header><resultCode>00</resultCode><resultMsg>NORMAL_SERVICE</resultMsg></header><body><dataType>XML</dataType><items><item><baseDate>20210416</baseDate><baseTime>0800</baseTime><category>POP</category><fcstDate>20210416</fcstDate><fcstTime>1200</fcstTime><fcstValue>60</fcstValue><nx>59</nx><ny>127</ny></item><item><baseDate>20210416</baseDate><baseTime>0800</baseTime><category>PTY</category><fcstDate>20210416</fcstDate><fcstTime>1200</fcstTime><fcstValue>1</fcstValue><nx>59</nx><ny>127</ny></item><item><baseDate>20210416</baseDate><baseTime>0800</baseTime><category>R06</category><fcstDate>20210416</fcstDate><fcstTime>1200</fcstTime><fcstValue>3</fcstValue><nx>59</nx><ny>127</ny></item><item><baseDate>20210416</baseDate><baseTime>0800</baseTime><category>REH</category><fcstDate>20210416</fcstDate><fcstTime>1200</fcstTime><fcstValue>80</fcstValue><nx>59</nx><ny>127</ny></item><item><baseDate>20210416</baseDate><baseTime>0800</baseTime><category>S06</category><fcstDate>20210416</fcstDate><fcstTime>1200</fcstTime><fcstValue>0</fcstValue><nx>59</nx><ny>127</ny></item><item><baseDate>20210416</baseDate><baseTime>0800</baseTime><category>SKY</category><fcstDate>20210416</fcstDate><fcstTime>1200</fcstTime><fcstValue>4</fcstValue><nx>59</nx><ny>127</ny></item><item><baseDate>20210416</baseDate><baseTime>0800</baseTime><category>T3H</category><fcstDate>20210416</fcstDate><fcstTime>1200</fcstTime><fcstValue>12</fcstValue><nx>59</nx><ny>127</ny></item><item><baseDate>20210416</baseDate><baseTime>0800</baseTime><category>UUU</category><fcstDate>20210416</fcstDate><fcstTime>1200</fcstTime><fcstValue>3.1</fcstValue><nx>59</nx><ny>127</ny></item><item><baseDate>20210416</baseDate><baseTime>0800</baseTime><category>VEC</category><fcstDate>20210416</fcstDate><fcstTime>1200</fcstTime><fcstValue>228</fcstValue><nx>59</nx><ny>127</ny></item><item><baseDate>20210416</baseDate><baseTime>0800</baseTime><category>VVV</category><fcstDate>20210416</fcstDate><fcstTime>1200</fcstTime><fcstValue>2.8</fcstValue><nx>59</nx><ny>127</ny></item></items><numOfRows>10</numOfRows><pageNo>1</pageNo><totalCount>216</totalCount></body></response>"
      ]
     },
     "execution_count": 3,
     "metadata": {},
     "output_type": "execute_result"
    }
   ],
   "source": [
    "# have to change with your service_key\n",
    "service_key = \"gC8RUN3kxgc5v1ZNPvEYW%2FspE4YwHYOn7VWWlIQGfGw2fNVEBCrzvE8cHUFEZpxk6jHmkvwHK9RuL2EjzNz4WQ%3D%3D\"\n",
    "nx = 59    # 서울 기준\n",
    "ny = 127   # 서울 기준\n",
    " \n",
    "date = get_rpt_time()\n",
    " \n",
    "base_url = \"http://apis.data.go.kr/1360000/VilageFcstInfoService/getVilageFcst?ServiceKey={}&base_date={}&base_time={}&nx={}&ny={}\"\n",
    "url = base_url.format(service_key, date[0], date[1], nx, ny)\n",
    " \n",
    "contents = req.get(url)\n",
    "\n",
    "weather = BeautifulSoup(contents.content, 'lxml-xml')\n",
    "weather"
   ]
  },
  {
   "cell_type": "code",
   "execution_count": 4,
   "metadata": {},
   "outputs": [
    {
     "name": "stdout",
     "output_type": "stream",
     "text": [
      "\t **************************************\n",
      "\t Report Time : 20210416 0800\n",
      "\t **************************************\n",
      "\t 강수확률  :  60%\n",
      "\t 강수형태  :  비\n",
      "\t 6시간 강수량  :  3mm\n",
      "\t 습도  :  80%\n",
      "\t 6시간 신적설  :  0cm\n",
      "\t 하늘상태  :  구름조금\n",
      "\t 3시간 기온  :  12°C\n",
      "\t 풍속(동서성분)  :  3.1m/s\n",
      "\t 풍향  :  SW\n",
      "\t 풍속(남북성분)  :  2.8m/s\n"
     ]
    }
   ],
   "source": [
    "print(\"\\t **************************************\")\n",
    "print(\"\\t Report Time :\", date[0], date[1])\n",
    "print(\"\\t **************************************\")\n",
    "for item in weather.find_all(\"item\"):\n",
    "    print(\"\\t\", w_items[item.category.string][0], \" : \", get_real_value(item.category, item.fcstValue), end = \"\")\n",
    "    if w_items[item.category.string][1] != \"\":\n",
    "        print(w_items[item.category.string][1])\n",
    "    else:\n",
    "        print()\n"
   ]
  },
  {
   "cell_type": "code",
   "execution_count": null,
   "metadata": {
    "collapsed": true
   },
   "outputs": [],
   "source": []
  }
 ],
 "metadata": {
  "kernelspec": {
   "display_name": "ChatApi_env",
   "language": "python",
   "name": "env"
  },
  "language_info": {
   "codemirror_mode": {
    "name": "ipython",
    "version": 3
   },
   "file_extension": ".py",
   "mimetype": "text/x-python",
   "name": "python",
   "nbconvert_exporter": "python",
   "pygments_lexer": "ipython3",
   "version": "3.6.2"
  }
 },
 "nbformat": 4,
 "nbformat_minor": 2
}
