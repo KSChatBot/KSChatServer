{
 "cells": [
  {
   "cell_type": "markdown",
   "metadata": {},
   "source": [
    "# 네이버 날씨 크롤링\n",
    "url\n",
    "https://search.naver.com/search.naver?where=nexearch&sm=top_hty&fbm=1&ie=utf8&query=서울+연남동+날씨"
   ]
  },
  {
   "cell_type": "code",
   "execution_count": 26,
   "metadata": {
    "collapsed": true
   },
   "outputs": [],
   "source": [
    "from bs4 import BeautifulSoup\n",
    "import requests\n",
    "import json "
   ]
  },
  {
   "cell_type": "code",
   "execution_count": 27,
   "metadata": {},
   "outputs": [
    {
     "name": "stdout",
     "output_type": "stream",
     "text": [
      "https://search.naver.com/search.naver?query=++부평날씨\n",
      "Success!\n"
     ]
    }
   ],
   "source": [
    "BaseURL = 'https://search.naver.com/search.naver?'\n",
    "\n",
    "sido = \"\"\n",
    "gungu = \"\"\n",
    "dong = \"부평\"\n",
    "\n",
    "payload = \"query=\" + sido + \"+\" + gungu + \"+\" + dong + \"날씨\"\n",
    "\n",
    "response = requests.get(BaseURL + payload)\n",
    "print(BaseURL + payload)\n",
    "if response.status_code == 200:\n",
    "    print('Success!')\n",
    "    soup = BeautifulSoup(response.text, 'html.parser')\n",
    "    data1 = soup.find('div', {'class': 'weather_box'})\n",
    "elif response.status_code == 404:\n",
    "    print('Not Found.')\n",
    "# data1"
   ]
  },
  {
   "cell_type": "code",
   "execution_count": 28,
   "metadata": {},
   "outputs": [
    {
     "name": "stdout",
     "output_type": "stream",
     "text": [
      "현재 위치: 인천광역시 부평구 부평동\n"
     ]
    }
   ],
   "source": [
    "find_address = data1.find('span', {'class':'btn_select'}).text\n",
    "print('현재 위치: '+find_address)\n"
   ]
  },
  {
   "cell_type": "code",
   "execution_count": 29,
   "metadata": {},
   "outputs": [
    {
     "name": "stdout",
     "output_type": "stream",
     "text": [
      "현재 온도: 13℃\n"
     ]
    }
   ],
   "source": [
    "find_currenttemp = data1.find('span',{'class': 'todaytemp'}).text\n",
    "print('현재 온도: '+find_currenttemp+'℃')\n"
   ]
  },
  {
   "cell_type": "code",
   "execution_count": 30,
   "metadata": {},
   "outputs": [
    {
     "name": "stdout",
     "output_type": "stream",
     "text": [
      "현재 미세먼지: 257㎍/㎥\n",
      "현재 초미세먼지: 49㎍/㎥\n",
      "현재 오존지수: 0.041ppm\n"
     ]
    }
   ],
   "source": [
    "data2 = data1.findAll('dd')\n",
    "find_dust = data2[0].find('span', {'class':'num'}).text\n",
    "find_ultra_dust = data2[1].find('span', {'class':'num'}).text\n",
    "find_ozone = data2[2].find('span', {'class':'num'}).text\n",
    "print('현재 미세먼지: '+find_dust)\n",
    "print('현재 초미세먼지: '+find_ultra_dust)\n",
    "print('현재 오존지수: '+find_ozone)"
   ]
  },
  {
   "cell_type": "code",
   "execution_count": 31,
   "metadata": {},
   "outputs": [
    {
     "name": "stdout",
     "output_type": "stream",
     "text": [
      "오늘온도 부연설명: 구름많음, 어제보다 1˚ 낮아요\n",
      "오늘최저온도: 10˚\n",
      "오늘최고온도: 15˚\n",
      "오늘체감온도: 체감온도 13˚\n"
     ]
    }
   ],
   "source": [
    "data3 = data1.findAll('ul', {\"class\":\"info_list\"})\n",
    "\n",
    "find_currenttemp_desc = data3[0].find('p', {'class':'cast_txt'}).text\n",
    "find_today_low_temp = data3[0].find('span', {'class':'min'}).text\n",
    "find_today_high_temp = data3[0].find('span', {'class':'max'}).text\n",
    "find_today_exp_temp = data3[0].find('span', {'class':'sensible'}).text\n",
    "print('오늘온도 부연설명: '+find_currenttemp_desc)\n",
    "print('오늘최저온도: '+find_today_low_temp)\n",
    "print('오늘최고온도: '+find_today_high_temp)\n",
    "print('오늘체감온도: '+find_today_exp_temp)\n",
    "# data3"
   ]
  },
  {
   "cell_type": "code",
   "execution_count": 32,
   "metadata": {},
   "outputs": [],
   "source": [
    "# 출력 결과를 JSON으로 가공 출력\n",
    "result = {}\n",
    "# '현재 위치: '+find_address)\n",
    "result['현재위치'] = find_address\n",
    "# '현재 온도: '+find_currenttemp+'℃'\n",
    "result['현재온도'] = find_currenttemp+'℃'\n",
    "# '날씨설명: '+find_address)\n",
    "result['날씨설명'] = find_currenttemp_desc\n",
    "# '최저온도: '+find_address)\n",
    "result['최저온도'] = find_today_low_temp\n",
    "# '최고온도: '+find_address)\n",
    "result['최고온도'] = find_today_high_temp\n",
    "# '체감온도: '+find_address)\n",
    "result['체감온도'] = find_today_exp_temp\n",
    "# '미세먼지: '+find_address)\n",
    "result['미세먼지'] = find_dust\n",
    "# '초미세먼지: '+find_address)\n",
    "result['초미세먼지'] = find_ultra_dust\n",
    "# '오존지수: '+find_address)\n",
    "result['오존지수'] = find_ozone\n"
   ]
  },
  {
   "cell_type": "code",
   "execution_count": 33,
   "metadata": {},
   "outputs": [
    {
     "name": "stdout",
     "output_type": "stream",
     "text": [
      "{\n",
      "    \"현재위치\": \"인천광역시 부평구 부평동\",\n",
      "    \"현재온도\": \"13℃\",\n",
      "    \"날씨설명\": \"구름많음, 어제보다 1˚ 낮아요\",\n",
      "    \"최저온도\": \"10˚\",\n",
      "    \"최고온도\": \"15˚\",\n",
      "    \"체감온도\": \"체감온도 13˚\",\n",
      "    \"미세먼지\": \"257㎍/㎥\",\n",
      "    \"초미세먼지\": \"49㎍/㎥\",\n",
      "    \"오존지수\": \"0.041ppm\"\n",
      "}\n"
     ]
    }
   ],
   "source": [
    "# Serializing json   \n",
    "result_json_object = json.dumps(result, indent = 4, ensure_ascii = False)  \n",
    "print(result_json_object) "
   ]
  },
  {
   "cell_type": "code",
   "execution_count": null,
   "metadata": {
    "collapsed": true
   },
   "outputs": [],
   "source": []
  }
 ],
 "metadata": {
  "kernelspec": {
   "display_name": "ChatApi_env",
   "language": "python",
   "name": "env"
  },
  "language_info": {
   "codemirror_mode": {
    "name": "ipython",
    "version": 3
   },
   "file_extension": ".py",
   "mimetype": "text/x-python",
   "name": "python",
   "nbconvert_exporter": "python",
   "pygments_lexer": "ipython3",
   "version": "3.6.2"
  }
 },
 "nbformat": 4,
 "nbformat_minor": 2
}
