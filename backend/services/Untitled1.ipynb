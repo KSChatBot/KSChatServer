{
 "cells": [
  {
   "cell_type": "code",
   "execution_count": 1,
   "metadata": {
    "collapsed": true
   },
   "outputs": [],
   "source": [
    "import requests\n",
    "import json"
   ]
  },
  {
   "cell_type": "code",
   "execution_count": 2,
   "metadata": {
    "collapsed": true
   },
   "outputs": [],
   "source": [
    "def getUserToken(URL, user_data):\n",
    "    data = requests.post(url, json=json.loads(user_data))\n",
    "    authentication_data = json.loads(data.text)\n",
    "    token = \"Bearer \" + str(authentication_data[\"result\"])\n",
    "    return token\n",
    "\n",
    "\n",
    "def getProcessID(process_name, token):\n",
    "    process_data = requests.get(f\"https://platform.uipath.com/odata/Releases?$filter=ProcessKey+eq%20'{process_name}'\",\n",
    "                                headers={\"Authorization\": token})\n",
    "    process_json = json.loads(process_data.text)\n",
    "    # print(json.dumps(process_json, indent=2))\n",
    "    process_ID = process_json[\"value\"][0][\"Key\"]\n",
    "    return process_ID\n",
    "\n",
    "\n",
    "def getRobotID(robotName, token):\n",
    "    robot_name = requests.get(f\"https://platform.uipath.com/odata/Robots?$filter=Name%20eq%20'{robotName}'\",\n",
    "                              headers={\"Authorization\": token})\n",
    "    robot_json_obj = json.loads(robot_name.text)\n",
    "    robot_ID = robot_json_obj[\"value\"][0][\"Id\"]\n",
    "    return robot_ID\n",
    "\n",
    "\n",
    "def runJob(process_ID, robot_ID, token):\n",
    "    start_job_json = \"\"\"{ \"startInfo\":\n",
    "       { \"ReleaseKey\": \\\"\"\"\" + process_ID + \"\"\"\\\",\n",
    "         \"Strategy\": \"Specific\",\n",
    "         \"RobotIds\": [ \"\"\" + str(robot_ID) + \"\"\" ],\n",
    "         \"Source\": \"Manual\",\n",
    "         \"InputArguments\": \"{'in_Arg1':'Aloha'}\"        \n",
    "       } \n",
    "    }\"\"\"  # InputArguments should be left {} or not included if workflow does not accept any input\n",
    "    start_job_data = requests.post(\"https://platform.uipath.com/odata/Jobs/UiPath.Server.Configuration.OData.StartJobs\",\n",
    "                                   json=json.loads(start_job_json), headers={\"Authorization\": token})\n",
    "    return start_job_data\n"
   ]
  },
  {
   "cell_type": "markdown",
   "metadata": {},
   "source": [
    "에러 메시지 :  SSL: CERTIFICATE_VERIFY_FAILED , Certificate verify failed\n",
    "인증서와 관련하여 유효하지 않기에 에러 메시지를 뱉고(?) Trackback과 함께 프로그램이 종료됩니다.\n",
    "\n",
    "해결 방법\n",
    "\n",
    "requests 모듈에서 url 뒤에 verify=False 옵션을 추가해 주면 해결할 수 있습니다.\n",
    "해당 옵션을 사용하면 HTTPS 요청에 대한 SSL 인증서 확인 과정을 생략하겠다는 의미입니다.\n",
    "\n",
    "response = requests.get(url,verify=False)"
   ]
  },
  {
   "cell_type": "code",
   "execution_count": 12,
   "metadata": {},
   "outputs": [
    {
     "name": "stdout",
     "output_type": "stream",
     "text": [
      "{'result': 'eyJhbGciOiJSUzI1NiIsImtpZCI6IjBERDBEODAzNDk3QTMwMkM1NUMwQjA0MzlBQjgzQzk4QkE4QjIwMDEiLCJ0eXAiOiJKV1QiLCJ4NXQiOiJEZERZQTBsNk1DeFZ3TEJEbXJnOG1McUxJQUUifQ.eyJuYmYiOjE2MTg5OTQ0ODcsImV4cCI6MTYxODk5ODM4NywiaXNzIjoiaHR0cHM6Ly9rb3JlYXNjb3JpbmcuaXB0aW1lLm9yZy9pZGVudGl0eSIsImF1ZCI6Ik9yY2hlc3RyYXRvckFwaVVzZXJBY2Nlc3MiLCJjbGllbnRfaWQiOiI0ZDdmMmJmMi05MDkzLTQ5NTktOWQ1Mi1iNGE2NjBmMTQ4NWYiLCJzdWIiOiI2MTM4MGJhMy1iNjc1LTQ3NzUtYTEyOC05MTk4NzcyMmU0MjUiLCJhdXRoX3RpbWUiOjE2MTg5OTQ3ODcsImlkcCI6ImxvY2FsIiwiQXNwTmV0LklkZW50aXR5LlNlY3VyaXR5U3RhbXAiOiJET0tCUFZYQ0lDVlZZS0EyM1YzQlFGQkk1SUdDS1FGQiIsInBydF9pZCI6ImE1ZDk4NTBhLTE5NTgtNDYyMC05YWNhLTI5MjZlNzJlYTM4YSIsImhvc3QiOiJGYWxzZSIsImZpcnN0X25hbWUiOiIiLCJsYXN0X25hbWUiOiIiLCJwcnRfYWRtIjoiRmFsc2UiLCJwcmVmZXJyZWRfdXNlcm5hbWUiOiJhZG1pbiIsIm5hbWUiOiJhZG1pbiIsImVtYWlsIjoiYWRtaW5AZGVmYXVsdHRlbmFudC5jb20iLCJlbWFpbF92ZXJpZmllZCI6ZmFsc2UsInNjb3BlIjpbImVtYWlsIiwib3BlbmlkIiwicHJvZmlsZSIsInRlbmFudCIsIk9yY2hlc3RyYXRvckFwaVVzZXJBY2Nlc3MiXSwiYW1yIjpbInB3ZCJdfQ.ZUcxTEZFerAzeZ-p7Zq06bRO025YjUx-tIHPqL4R8NiR6fpmNchJC-68j4oV5AxiRNyhQBNhUbLgkzGN_Ne93d61bbSZQyFeUVUZ0XdovafdPvi-eeeidv6xRYRmFy6YtPZaTWb3pxypkVczCo1uS7A6GLGNPAZXPLSHyOY-PVXZcXUl3SHllamQMobffjGaGq3BkRRBT7nlyL_vjGITq2dRN-L7_ODCwBISxMUPsqb22g6PJhRferwPndXK93gBRuuh1oMfEITGwvXxZMwHFurE_9UHT0jtrqKHDF4ACNwVvtDrdHi9tJJSi3HQMrNTs2B_0JtoVTK6XTHnf2LQrQ', 'targetUrl': None, 'success': True, 'error': None, 'unAuthorizedRequest': False, '__abp': True}\n",
      "Bearer eyJhbGciOiJSUzI1NiIsImtpZCI6IjBERDBEODAzNDk3QTMwMkM1NUMwQjA0MzlBQjgzQzk4QkE4QjIwMDEiLCJ0eXAiOiJKV1QiLCJ4NXQiOiJEZERZQTBsNk1DeFZ3TEJEbXJnOG1McUxJQUUifQ.eyJuYmYiOjE2MTg5OTQ0ODcsImV4cCI6MTYxODk5ODM4NywiaXNzIjoiaHR0cHM6Ly9rb3JlYXNjb3JpbmcuaXB0aW1lLm9yZy9pZGVudGl0eSIsImF1ZCI6Ik9yY2hlc3RyYXRvckFwaVVzZXJBY2Nlc3MiLCJjbGllbnRfaWQiOiI0ZDdmMmJmMi05MDkzLTQ5NTktOWQ1Mi1iNGE2NjBmMTQ4NWYiLCJzdWIiOiI2MTM4MGJhMy1iNjc1LTQ3NzUtYTEyOC05MTk4NzcyMmU0MjUiLCJhdXRoX3RpbWUiOjE2MTg5OTQ3ODcsImlkcCI6ImxvY2FsIiwiQXNwTmV0LklkZW50aXR5LlNlY3VyaXR5U3RhbXAiOiJET0tCUFZYQ0lDVlZZS0EyM1YzQlFGQkk1SUdDS1FGQiIsInBydF9pZCI6ImE1ZDk4NTBhLTE5NTgtNDYyMC05YWNhLTI5MjZlNzJlYTM4YSIsImhvc3QiOiJGYWxzZSIsImZpcnN0X25hbWUiOiIiLCJsYXN0X25hbWUiOiIiLCJwcnRfYWRtIjoiRmFsc2UiLCJwcmVmZXJyZWRfdXNlcm5hbWUiOiJhZG1pbiIsIm5hbWUiOiJhZG1pbiIsImVtYWlsIjoiYWRtaW5AZGVmYXVsdHRlbmFudC5jb20iLCJlbWFpbF92ZXJpZmllZCI6ZmFsc2UsInNjb3BlIjpbImVtYWlsIiwib3BlbmlkIiwicHJvZmlsZSIsInRlbmFudCIsIk9yY2hlc3RyYXRvckFwaVVzZXJBY2Nlc3MiXSwiYW1yIjpbInB3ZCJdfQ.ZUcxTEZFerAzeZ-p7Zq06bRO025YjUx-tIHPqL4R8NiR6fpmNchJC-68j4oV5AxiRNyhQBNhUbLgkzGN_Ne93d61bbSZQyFeUVUZ0XdovafdPvi-eeeidv6xRYRmFy6YtPZaTWb3pxypkVczCo1uS7A6GLGNPAZXPLSHyOY-PVXZcXUl3SHllamQMobffjGaGq3BkRRBT7nlyL_vjGITq2dRN-L7_ODCwBISxMUPsqb22g6PJhRferwPndXK93gBRuuh1oMfEITGwvXxZMwHFurE_9UHT0jtrqKHDF4ACNwVvtDrdHi9tJJSi3HQMrNTs2B_0JtoVTK6XTHnf2LQrQ\n"
     ]
    },
    {
     "name": "stderr",
     "output_type": "stream",
     "text": [
      "C:\\Users\\koreascoring\\reactapp\\backend\\env\\lib\\site-packages\\urllib3\\connectionpool.py:1020: InsecureRequestWarning: Unverified HTTPS request is being made to host 'koreascoring.iptime.org'. Adding certificate verification is strongly advised. See: https://urllib3.readthedocs.io/en/latest/advanced-usage.html#ssl-warnings\n",
      "  InsecureRequestWarning,\n"
     ]
    }
   ],
   "source": [
    "url=\"https://koreascoring.iptime.org/api/Account/Authenticate\"\n",
    "# tenancyName=\"Default\"\n",
    "# userName=\"admin\"\n",
    "# password=\"1q2w3e4r!\"\n",
    "\n",
    "user_data = {\n",
    "\t\"tenancyName\": \"Default\",\n",
    "\t\"usernameOrEmailAddress\": \"admin\",\n",
    "\t\"password\": \"1q2w3e4r!\"\n",
    "}\n",
    "\n",
    "headers={'Content-type':'application/json', 'Accept':'application/json'}\n",
    "\n",
    "data = requests.post(url, json=user_data, headers=headers, verify=False)\n",
    "authentication_data = json.loads(data.text)\n",
    "print(authentication_data)\n",
    "token = \"Bearer \" + str(authentication_data[\"result\"])\n",
    "print(token)"
   ]
  },
  {
   "cell_type": "code",
   "execution_count": null,
   "metadata": {
    "collapsed": true
   },
   "outputs": [],
   "source": []
  }
 ],
 "metadata": {
  "kernelspec": {
   "display_name": "ChatApi_env",
   "language": "python",
   "name": "env"
  },
  "language_info": {
   "codemirror_mode": {
    "name": "ipython",
    "version": 3
   },
   "file_extension": ".py",
   "mimetype": "text/x-python",
   "name": "python",
   "nbconvert_exporter": "python",
   "pygments_lexer": "ipython3",
   "version": "3.6.2"
  }
 },
 "nbformat": 4,
 "nbformat_minor": 2
}
