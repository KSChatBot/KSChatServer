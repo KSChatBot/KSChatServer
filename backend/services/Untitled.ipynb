{
 "cells": [
  {
   "cell_type": "code",
   "execution_count": 7,
   "metadata": {
    "collapsed": true
   },
   "outputs": [],
   "source": [
    "import requests\n",
    "# from orchestrator import Orchestrator\n",
    "import uuid"
   ]
  },
  {
   "cell_type": "code",
   "execution_count": 8,
   "metadata": {
    "collapsed": true
   },
   "outputs": [],
   "source": [
    "class Orchestrator:\n",
    "\ttoken = None\n",
    "\n",
    "\tdef __init__(self, tenant, user, password, url = 'https://platform.uipath.com/'):\n",
    "\t\tself.url = url\n",
    "\t\tself.token = self.__getToken(tenant, user, password)\n",
    "\n",
    "\n",
    "\tdef __getToken(cls, tenant, user, password):\n",
    "\t\tres = cls.request('POST', 'api/account/authenticate', {'tenancyName': tenant,\n",
    "                                                                       'usernameOrEmailAddress': user, \n",
    "                                                                       'password': password},verify=False)\n",
    "\t\treturn res[\"result\"]\n",
    "\n",
    "\n",
    "\tdef request(self, type, extension, body = None):\n",
    "\t\turi = self.url + extension\n",
    "\t\theaders = {'Authorization': 'Bearer ' + (self.token or '')}\n",
    "\n",
    "\t\tresponse = requests.request(type.upper(), uri, data=body, headers=headers,verify=False)\n",
    "\t\treturn response.json()"
   ]
  },
  {
   "cell_type": "code",
   "execution_count": 9,
   "metadata": {},
   "outputs": [
    {
     "ename": "TypeError",
     "evalue": "request() got an unexpected keyword argument 'verify'",
     "output_type": "error",
     "traceback": [
      "\u001b[1;31m---------------------------------------------------------------------------\u001b[0m",
      "\u001b[1;31mTypeError\u001b[0m                                 Traceback (most recent call last)",
      "\u001b[1;32m<ipython-input-9-18dcf3a71498>\u001b[0m in \u001b[0;36m<module>\u001b[1;34m\u001b[0m\n\u001b[0;32m      5\u001b[0m \u001b[1;31m#________________________________________________________________#\u001b[0m\u001b[1;33m\u001b[0m\u001b[1;33m\u001b[0m\u001b[0m\n\u001b[0;32m      6\u001b[0m \u001b[1;33m\u001b[0m\u001b[0m\n\u001b[1;32m----> 7\u001b[1;33m \u001b[0morch\u001b[0m \u001b[1;33m=\u001b[0m \u001b[0mOrchestrator\u001b[0m\u001b[1;33m(\u001b[0m\u001b[1;34m\"Default\"\u001b[0m\u001b[1;33m,\u001b[0m \u001b[1;34m\"admin\"\u001b[0m\u001b[1;33m,\u001b[0m \u001b[1;34m\"1q2w3e4r!\"\u001b[0m\u001b[1;33m,\u001b[0m \u001b[1;34m\"https://koreascoring.iptime.org/\"\u001b[0m\u001b[1;33m)\u001b[0m\u001b[1;33m\u001b[0m\u001b[0m\n\u001b[0m\u001b[0;32m      8\u001b[0m \u001b[1;33m\u001b[0m\u001b[0m\n\u001b[0;32m      9\u001b[0m \u001b[1;31m#________________________________________________________________#\u001b[0m\u001b[1;33m\u001b[0m\u001b[1;33m\u001b[0m\u001b[0m\n",
      "\u001b[1;32m<ipython-input-8-ed10ea2225af>\u001b[0m in \u001b[0;36m__init__\u001b[1;34m(self, tenant, user, password, url)\u001b[0m\n\u001b[0;32m      4\u001b[0m         \u001b[1;32mdef\u001b[0m \u001b[0m__init__\u001b[0m\u001b[1;33m(\u001b[0m\u001b[0mself\u001b[0m\u001b[1;33m,\u001b[0m \u001b[0mtenant\u001b[0m\u001b[1;33m,\u001b[0m \u001b[0muser\u001b[0m\u001b[1;33m,\u001b[0m \u001b[0mpassword\u001b[0m\u001b[1;33m,\u001b[0m \u001b[0murl\u001b[0m \u001b[1;33m=\u001b[0m \u001b[1;34m'https://platform.uipath.com/'\u001b[0m\u001b[1;33m)\u001b[0m\u001b[1;33m:\u001b[0m\u001b[1;33m\u001b[0m\u001b[0m\n\u001b[0;32m      5\u001b[0m                 \u001b[0mself\u001b[0m\u001b[1;33m.\u001b[0m\u001b[0murl\u001b[0m \u001b[1;33m=\u001b[0m \u001b[0murl\u001b[0m\u001b[1;33m\u001b[0m\u001b[0m\n\u001b[1;32m----> 6\u001b[1;33m                 \u001b[0mself\u001b[0m\u001b[1;33m.\u001b[0m\u001b[0mtoken\u001b[0m \u001b[1;33m=\u001b[0m \u001b[0mself\u001b[0m\u001b[1;33m.\u001b[0m\u001b[0m__getToken\u001b[0m\u001b[1;33m(\u001b[0m\u001b[0mtenant\u001b[0m\u001b[1;33m,\u001b[0m \u001b[0muser\u001b[0m\u001b[1;33m,\u001b[0m \u001b[0mpassword\u001b[0m\u001b[1;33m)\u001b[0m\u001b[1;33m\u001b[0m\u001b[0m\n\u001b[0m\u001b[0;32m      7\u001b[0m \u001b[1;33m\u001b[0m\u001b[0m\n\u001b[0;32m      8\u001b[0m \u001b[1;33m\u001b[0m\u001b[0m\n",
      "\u001b[1;32m<ipython-input-8-ed10ea2225af>\u001b[0m in \u001b[0;36m__getToken\u001b[1;34m(cls, tenant, user, password)\u001b[0m\n\u001b[0;32m     10\u001b[0m \t\tres = cls.request('POST', 'api/account/authenticate', {'tenancyName': tenant,\n\u001b[0;32m     11\u001b[0m                                                                        \u001b[1;34m'usernameOrEmailAddress'\u001b[0m\u001b[1;33m:\u001b[0m \u001b[0muser\u001b[0m\u001b[1;33m,\u001b[0m\u001b[1;33m\u001b[0m\u001b[0m\n\u001b[1;32m---> 12\u001b[1;33m                                                                        'password': password},verify=False)\n\u001b[0m\u001b[0;32m     13\u001b[0m                 \u001b[1;32mreturn\u001b[0m \u001b[0mres\u001b[0m\u001b[1;33m[\u001b[0m\u001b[1;34m\"result\"\u001b[0m\u001b[1;33m]\u001b[0m\u001b[1;33m\u001b[0m\u001b[0m\n\u001b[0;32m     14\u001b[0m \u001b[1;33m\u001b[0m\u001b[0m\n",
      "\u001b[1;31mTypeError\u001b[0m: request() got an unexpected keyword argument 'verify'"
     ]
    }
   ],
   "source": [
    "#________________________________________________________________#\n",
    "#                    CREATE ORCHESTRATOR OBJECT                  #\n",
    "#                  (Automatically authenticates)                 #\n",
    "#     Params: tenant, username, password, [orchestrator url]     #\n",
    "#________________________________________________________________#\n",
    "\n",
    "orch = Orchestrator(\"Default\", \"admin\", \"1q2w3e4r!\", \"https://koreascoring.iptime.org/\")\n",
    "\n",
    "#________________________________________________________________#\n",
    "#                          SEND REQUEST                          #\n",
    "#          Params: request type, url extension, [data]           #\n",
    "#________________________________________________________________#\n",
    "\n",
    "# GET\n",
    "res = orch.request('get', 'odata/Environments')\n",
    "print(res)\n"
   ]
  },
  {
   "cell_type": "code",
   "execution_count": null,
   "metadata": {
    "collapsed": true
   },
   "outputs": [],
   "source": [
    "\n",
    "\n",
    "\n",
    "# POST\n",
    "res = orch.request('post', 'odata/Assets', {'Name': \"Asset \" + str(uuid.uuid4())[0:8],\n",
    "\t\t\t\t\t    'ValueScope': \"Global\",\n",
    "\t\t\t\t\t    'ValueType': \"Text\",\n",
    "  \t\t\t\t\t    'StringValue': \"Et tu asset 2\"})\n",
    "print(res)"
   ]
  }
 ],
 "metadata": {
  "kernelspec": {
   "display_name": "ChatApi_env",
   "language": "python",
   "name": "env"
  },
  "language_info": {
   "codemirror_mode": {
    "name": "ipython",
    "version": 3
   },
   "file_extension": ".py",
   "mimetype": "text/x-python",
   "name": "python",
   "nbconvert_exporter": "python",
   "pygments_lexer": "ipython3",
   "version": "3.6.2"
  }
 },
 "nbformat": 4,
 "nbformat_minor": 2
}
