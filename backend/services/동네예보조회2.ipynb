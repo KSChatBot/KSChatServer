{
 "cells": [
  {
   "cell_type": "code",
   "execution_count": 1,
   "metadata": {
    "collapsed": true
   },
   "outputs": [],
   "source": [
    "from datetime import datetime \n",
    "import requests \n",
    "import json \n",
    "import pandas as pd \n"
   ]
  },
  {
   "cell_type": "code",
   "execution_count": 2,
   "metadata": {
    "collapsed": true
   },
   "outputs": [],
   "source": [
    "# 동네예보조회 Call Back URL\n",
    "CallBackURL = \"http://apis.data.go.kr/1360000/VilageFcstInfoService/getVilageFcst?\"\n",
    "# service_key = \"<YOUR SERVICE KEY>\"\n",
    "service_key = \"gC8RUN3kxgc5v1ZNPvEYW%2FspE4YwHYOn7VWWlIQGfGw2fNVEBCrzvE8cHUFEZpxk6jHmkvwHK9RuL2EjzNz4WQ%3D%3D\"\n"
   ]
  },
  {
   "cell_type": "code",
   "execution_count": 3,
   "metadata": {
    "collapsed": true
   },
   "outputs": [],
   "source": [
    "def get_sky_info(data):\n",
    "    try:\n",
    "        weather_info = data['response']['body']['items']['item']\n",
    "        if weather_info[3]['category'] == 'SKY':\n",
    "            return weather_info[3]['fcstValue']\n",
    "        elif weather_info[5]['category'] == 'SKY':\n",
    "            return weather_info[5]['fcstValue']\n",
    "    except KeyError: print('API 호출 실패!')\n"
   ]
  },
  {
   "cell_type": "code",
   "execution_count": 4,
   "metadata": {
    "collapsed": true
   },
   "outputs": [],
   "source": [
    "def get_base_time(hour):\n",
    "    hour = int(hour)\n",
    "    if hour < 3:\n",
    "        temp_hour = '20'\n",
    "    elif hour < 6:\n",
    "        temp_hour = '23'\n",
    "    elif hour < 9:\n",
    "        temp_hour = '02'\n",
    "    elif hour < 12:\n",
    "        temp_hour = '05'\n",
    "    elif hour < 15:\n",
    "        temp_hour = '08'\n",
    "    elif hour < 18:\n",
    "        temp_hour = '11'\n",
    "    elif hour < 21:\n",
    "        temp_hour = '14'\n",
    "    elif hour < 24:\n",
    "        temp_hour = '17'\n",
    "        \n",
    "    return temp_hour + '00'\n"
   ]
  },
  {
   "cell_type": "code",
   "execution_count": 5,
   "metadata": {
    "collapsed": true
   },
   "outputs": [],
   "source": [
    "def get_weather():\n",
    "    now = datetime.now()\n",
    "    now_date = now.strftime('%Y%m%d')\n",
    "    now_hour = int(now.strftime('%H'))\n",
    "    \n",
    "    if now_hour < 6:\n",
    "        base_date = str(int(now_date) - 1)\n",
    "    else:\n",
    "        base_date = now_date\n",
    "        \n",
    "    base_hour = get_base_time(now_hour)\n",
    "    \n",
    "    num_of_rows = '6'\n",
    "    base_date = base_date\n",
    "    base_time = base_hour\n",
    "\n",
    "    # 서울시 마포구 연남동 : \n",
    "    nx = str(59) \n",
    "    ny = str(127)\n",
    "    \n",
    "    payload = \"serviceKey=\" + service_key + \"&\" +\\\n",
    "        \"dataType=JSON\" + \"&\" +\\\n",
    "        \"base_date=\" + base_date + \"&\" +\\\n",
    "        \"base_time=\" + base_time + \"&\" +\\\n",
    "        \"nx=\" + nx + \"&\" +\\\n",
    "        \"ny=\" + ny\n",
    "\n",
    "    response = requests.get(CallBackURL + payload)\n",
    "\n",
    "    if 'json' in response.headers.get('Content-Type'):\n",
    "        data = json.loads(response.text)\n",
    "    else:\n",
    "        print('Response content is not in JSON format.')\n",
    "        data = 'spam'    \n",
    "        \n",
    "    return data\n"
   ]
  },
  {
   "cell_type": "code",
   "execution_count": 6,
   "metadata": {},
   "outputs": [
    {
     "name": "stdout",
     "output_type": "stream",
     "text": [
      "{'response': {'header': {'resultCode': '00', 'resultMsg': 'NORMAL_SERVICE'}, 'body': {'dataType': 'JSON', 'items': {'item': [{'baseDate': '20210415', 'baseTime': '0500', 'category': 'POP', 'fcstDate': '20210415', 'fcstTime': '0900', 'fcstValue': '20', 'nx': 59, 'ny': 127}, {'baseDate': '20210415', 'baseTime': '0500', 'category': 'PTY', 'fcstDate': '20210415', 'fcstTime': '0900', 'fcstValue': '0', 'nx': 59, 'ny': 127}, {'baseDate': '20210415', 'baseTime': '0500', 'category': 'REH', 'fcstDate': '20210415', 'fcstTime': '0900', 'fcstValue': '75', 'nx': 59, 'ny': 127}, {'baseDate': '20210415', 'baseTime': '0500', 'category': 'SKY', 'fcstDate': '20210415', 'fcstTime': '0900', 'fcstValue': '3', 'nx': 59, 'ny': 127}, {'baseDate': '20210415', 'baseTime': '0500', 'category': 'T3H', 'fcstDate': '20210415', 'fcstTime': '0900', 'fcstValue': '10', 'nx': 59, 'ny': 127}, {'baseDate': '20210415', 'baseTime': '0500', 'category': 'UUU', 'fcstDate': '20210415', 'fcstTime': '0900', 'fcstValue': '-1.6', 'nx': 59, 'ny': 127}, {'baseDate': '20210415', 'baseTime': '0500', 'category': 'VEC', 'fcstDate': '20210415', 'fcstTime': '0900', 'fcstValue': '123', 'nx': 59, 'ny': 127}, {'baseDate': '20210415', 'baseTime': '0500', 'category': 'VVV', 'fcstDate': '20210415', 'fcstTime': '0900', 'fcstValue': '1.1', 'nx': 59, 'ny': 127}, {'baseDate': '20210415', 'baseTime': '0500', 'category': 'WSD', 'fcstDate': '20210415', 'fcstTime': '0900', 'fcstValue': '2', 'nx': 59, 'ny': 127}, {'baseDate': '20210415', 'baseTime': '0500', 'category': 'POP', 'fcstDate': '20210415', 'fcstTime': '1200', 'fcstValue': '20', 'nx': 59, 'ny': 127}]}, 'pageNo': 1, 'numOfRows': 10, 'totalCount': 225}}}\n"
     ]
    }
   ],
   "source": [
    "weather = get_weather()\n",
    "print(weather)"
   ]
  },
  {
   "cell_type": "code",
   "execution_count": 7,
   "metadata": {},
   "outputs": [
    {
     "data": {
      "text/html": [
       "<div>\n",
       "<style scoped>\n",
       "    .dataframe tbody tr th:only-of-type {\n",
       "        vertical-align: middle;\n",
       "    }\n",
       "\n",
       "    .dataframe tbody tr th {\n",
       "        vertical-align: top;\n",
       "    }\n",
       "\n",
       "    .dataframe thead th {\n",
       "        text-align: right;\n",
       "    }\n",
       "</style>\n",
       "<table border=\"1\" class=\"dataframe\">\n",
       "  <thead>\n",
       "    <tr style=\"text-align: right;\">\n",
       "      <th></th>\n",
       "      <th>baseDate</th>\n",
       "      <th>baseTime</th>\n",
       "      <th>category</th>\n",
       "      <th>fcstDate</th>\n",
       "      <th>fcstTime</th>\n",
       "      <th>fcstValue</th>\n",
       "      <th>nx</th>\n",
       "      <th>ny</th>\n",
       "    </tr>\n",
       "  </thead>\n",
       "  <tbody>\n",
       "    <tr>\n",
       "      <th>0</th>\n",
       "      <td>20210415</td>\n",
       "      <td>0500</td>\n",
       "      <td>POP</td>\n",
       "      <td>20210415</td>\n",
       "      <td>0900</td>\n",
       "      <td>20</td>\n",
       "      <td>59</td>\n",
       "      <td>127</td>\n",
       "    </tr>\n",
       "    <tr>\n",
       "      <th>1</th>\n",
       "      <td>20210415</td>\n",
       "      <td>0500</td>\n",
       "      <td>PTY</td>\n",
       "      <td>20210415</td>\n",
       "      <td>0900</td>\n",
       "      <td>0</td>\n",
       "      <td>59</td>\n",
       "      <td>127</td>\n",
       "    </tr>\n",
       "    <tr>\n",
       "      <th>2</th>\n",
       "      <td>20210415</td>\n",
       "      <td>0500</td>\n",
       "      <td>REH</td>\n",
       "      <td>20210415</td>\n",
       "      <td>0900</td>\n",
       "      <td>75</td>\n",
       "      <td>59</td>\n",
       "      <td>127</td>\n",
       "    </tr>\n",
       "    <tr>\n",
       "      <th>3</th>\n",
       "      <td>20210415</td>\n",
       "      <td>0500</td>\n",
       "      <td>SKY</td>\n",
       "      <td>20210415</td>\n",
       "      <td>0900</td>\n",
       "      <td>3</td>\n",
       "      <td>59</td>\n",
       "      <td>127</td>\n",
       "    </tr>\n",
       "    <tr>\n",
       "      <th>4</th>\n",
       "      <td>20210415</td>\n",
       "      <td>0500</td>\n",
       "      <td>T3H</td>\n",
       "      <td>20210415</td>\n",
       "      <td>0900</td>\n",
       "      <td>10</td>\n",
       "      <td>59</td>\n",
       "      <td>127</td>\n",
       "    </tr>\n",
       "    <tr>\n",
       "      <th>5</th>\n",
       "      <td>20210415</td>\n",
       "      <td>0500</td>\n",
       "      <td>UUU</td>\n",
       "      <td>20210415</td>\n",
       "      <td>0900</td>\n",
       "      <td>-1.6</td>\n",
       "      <td>59</td>\n",
       "      <td>127</td>\n",
       "    </tr>\n",
       "    <tr>\n",
       "      <th>6</th>\n",
       "      <td>20210415</td>\n",
       "      <td>0500</td>\n",
       "      <td>VEC</td>\n",
       "      <td>20210415</td>\n",
       "      <td>0900</td>\n",
       "      <td>123</td>\n",
       "      <td>59</td>\n",
       "      <td>127</td>\n",
       "    </tr>\n",
       "    <tr>\n",
       "      <th>7</th>\n",
       "      <td>20210415</td>\n",
       "      <td>0500</td>\n",
       "      <td>VVV</td>\n",
       "      <td>20210415</td>\n",
       "      <td>0900</td>\n",
       "      <td>1.1</td>\n",
       "      <td>59</td>\n",
       "      <td>127</td>\n",
       "    </tr>\n",
       "    <tr>\n",
       "      <th>8</th>\n",
       "      <td>20210415</td>\n",
       "      <td>0500</td>\n",
       "      <td>WSD</td>\n",
       "      <td>20210415</td>\n",
       "      <td>0900</td>\n",
       "      <td>2</td>\n",
       "      <td>59</td>\n",
       "      <td>127</td>\n",
       "    </tr>\n",
       "    <tr>\n",
       "      <th>9</th>\n",
       "      <td>20210415</td>\n",
       "      <td>0500</td>\n",
       "      <td>POP</td>\n",
       "      <td>20210415</td>\n",
       "      <td>1200</td>\n",
       "      <td>20</td>\n",
       "      <td>59</td>\n",
       "      <td>127</td>\n",
       "    </tr>\n",
       "  </tbody>\n",
       "</table>\n",
       "</div>"
      ],
      "text/plain": [
       "   baseDate baseTime category  fcstDate fcstTime fcstValue  nx   ny\n",
       "0  20210415     0500      POP  20210415     0900        20  59  127\n",
       "1  20210415     0500      PTY  20210415     0900         0  59  127\n",
       "2  20210415     0500      REH  20210415     0900        75  59  127\n",
       "3  20210415     0500      SKY  20210415     0900         3  59  127\n",
       "4  20210415     0500      T3H  20210415     0900        10  59  127\n",
       "5  20210415     0500      UUU  20210415     0900      -1.6  59  127\n",
       "6  20210415     0500      VEC  20210415     0900       123  59  127\n",
       "7  20210415     0500      VVV  20210415     0900       1.1  59  127\n",
       "8  20210415     0500      WSD  20210415     0900         2  59  127\n",
       "9  20210415     0500      POP  20210415     1200        20  59  127"
      ]
     },
     "execution_count": 7,
     "metadata": {},
     "output_type": "execute_result"
    }
   ],
   "source": [
    "# Result \n",
    "res = pd.DataFrame(weather['response']['body']['items']['item'])\n",
    "res"
   ]
  },
  {
   "cell_type": "code",
   "execution_count": null,
   "metadata": {
    "collapsed": true
   },
   "outputs": [],
   "source": []
  }
 ],
 "metadata": {
  "kernelspec": {
   "display_name": "ChatApi_env",
   "language": "python",
   "name": "env"
  },
  "language_info": {
   "codemirror_mode": {
    "name": "ipython",
    "version": 3
   },
   "file_extension": ".py",
   "mimetype": "text/x-python",
   "name": "python",
   "nbconvert_exporter": "python",
   "pygments_lexer": "ipython3",
   "version": "3.6.2"
  }
 },
 "nbformat": 4,
 "nbformat_minor": 2
}
