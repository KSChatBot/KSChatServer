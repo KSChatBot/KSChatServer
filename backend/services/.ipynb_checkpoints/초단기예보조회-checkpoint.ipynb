{
 "cells": [
  {
   "cell_type": "markdown",
   "metadata": {},
   "source": [
    "### 초단기예보조회\n",
    "초단기예보정보를 조회하기 위해 발표일자, 발표시각, 예보지점 X 좌표, 예보지점 Y 좌표의 조회 조건으로 자료구분코드, 예보값, 발표일자, 발표시각, 예보지점 X 좌표, 예보지점 Y 좌표의 정보를 조회하는 기능\n"
   ]
  },
  {
   "cell_type": "code",
   "execution_count": 1,
   "metadata": {
    "collapsed": true
   },
   "outputs": [],
   "source": [
    "from urllib.request import urlopen \n",
    "from urllib.parse import urlencode, unquote, quote_plus \n",
    "import urllib \n",
    "import requests \n",
    "import json \n",
    "import pandas as pd \n",
    "\n",
    "# Setting for URL parsing CallBackURL = 'http://apis.data.go.kr/1360000/VilageFcstInfoService/getUltraSrtNcst' params = '?' + urlencode({ quote_plus(\"serviceKey\"): \"~~\", # 인증키 quote_plus(\"numOfRows\"): \"10\", # 한 페이지 결과 수 // default : 10 quote_plus(\"pageNo\"): \"1\", # 페이지 번호 // default : 1 quote_plus(\"dataType\"): \"JSON\", # 응답자료형식 : XML, JSON quote_plus(\"base_date\"): \"20200225\", # 발표일자 // yyyymmdd quote_plus(\"base_time\"): \"0600\", # 발표시각 // HHMM, 매 시각 40분 이후 호출 quote_plus(\"nx\"): \"60\", # 예보지점 X 좌표 quote_plus(\"ny\"): \"127\" # 예보지점 Y 좌표 }) # URL parsing req = urllib.request.Request(CallBackURL + unquote(params)) # Get Data from API response_body = urlopen(req).read() # get bytes data # Convert bytes to json data = json.loads(response_body) # Result res = pd.DataFrame(data['response']['body']['items']['item'])\n"
   ]
  },
  {
   "cell_type": "code",
   "execution_count": 6,
   "metadata": {},
   "outputs": [
    {
     "data": {
      "text/plain": [
       "b'<OpenAPI_ServiceResponse>\\n\\t<cmmMsgHeader>\\n\\t\\t<errMsg>SERVICE ERROR</errMsg>\\n\\t\\t<returnAuthMsg>SERVICE_KEY_IS_NOT_REGISTERED_ERROR</returnAuthMsg>\\n\\t\\t<returnReasonCode>30</returnReasonCode>\\n\\t</cmmMsgHeader>\\n</OpenAPI_ServiceResponse>'"
      ]
     },
     "execution_count": 6,
     "metadata": {},
     "output_type": "execute_result"
    }
   ],
   "source": [
    "# Setting for URL parsing\n",
    "CallBackURL = 'http://apis.data.go.kr/1360000/VilageFcstInfoService/getUltraSrtNcst'\n",
    "params = '?' + urlencode({\n",
    "    quote_plus(\"serviceKey\"): \"gC8RUN3kxgc5v1ZNPvEYW%2FspE4YwHYOn7VWWlIQGfGw2fNVEBCrzvE8cHUFEZpxk6jHmkvwHK9RuL2EjzNz4WQ%3D%3D\", # 인증키\n",
    "    quote_plus(\"numOfRows\"): \"10\", # 한 페이지 결과 수 // default : 10\n",
    "    quote_plus(\"pageNo\"): \"1\", # 페이지 번호 // default : 1\n",
    "    quote_plus(\"dataType\"): \"JSON\", # 응답자료형식 : XML, JSON\n",
    "    quote_plus(\"base_date\"): \"20200225\", # 발표일자 // yyyymmdd\n",
    "    quote_plus(\"base_time\"): \"0600\", # 발표시각 // HHMM, 매 시각 40분 이후 호출\n",
    "    quote_plus(\"nx\"): \"60\", # 예보지점 X 좌표\n",
    "    quote_plus(\"ny\"): \"127\" # 예보지점 Y 좌표 \n",
    "})\n",
    "\n",
    "# URL parsing \n",
    "req = urllib.request.Request(CallBackURL + unquote(params))\n",
    "\n",
    "# # Get Data from API \n",
    "response_body = urlopen(req).read() # get bytes data\n",
    "response_body\n",
    "# # Convert bytes to json\n",
    "# data = json.loads(response_body)\n",
    "\n",
    "# Result \n",
    "# res = pd.DataFrame(data['response']['body']['items']['item'])\n"
   ]
  },
  {
   "cell_type": "code",
   "execution_count": null,
   "metadata": {
    "collapsed": true
   },
   "outputs": [],
   "source": [
    "res"
   ]
  }
 ],
 "metadata": {
  "kernelspec": {
   "display_name": "ChatApi_env",
   "language": "python",
   "name": "env"
  },
  "language_info": {
   "codemirror_mode": {
    "name": "ipython",
    "version": 3
   },
   "file_extension": ".py",
   "mimetype": "text/x-python",
   "name": "python",
   "nbconvert_exporter": "python",
   "pygments_lexer": "ipython3",
   "version": "3.6.2"
  }
 },
 "nbformat": 4,
 "nbformat_minor": 2
}
